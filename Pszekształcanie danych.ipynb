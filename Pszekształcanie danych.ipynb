{
 "cells": [
  {
   "cell_type": "code",
   "execution_count": 29,
   "id": "1e1bd4ae",
   "metadata": {},
   "outputs": [],
   "source": [
    "import pandas as pd\n",
    "import os\n",
    "from requests import get \n",
    "import time\n",
    "from datetime import datetime, timedelta"
   ]
  },
  {
   "cell_type": "code",
   "execution_count": 30,
   "id": "263f5664",
   "metadata": {},
   "outputs": [],
   "source": [
    "os.chdir('C:/Users/User/Downloads/Magisterska_Taxi_Data')"
   ]
  },
  {
   "cell_type": "code",
   "execution_count": 31,
   "id": "e4fab9b4",
   "metadata": {},
   "outputs": [
    {
     "data": {
      "text/plain": [
       "'C:\\\\Users\\\\User\\\\Downloads\\\\Magisterska_Taxi_Data'"
      ]
     },
     "execution_count": 31,
     "metadata": {},
     "output_type": "execute_result"
    }
   ],
   "source": [
    "os.getcwd()"
   ]
  },
  {
   "cell_type": "code",
   "execution_count": 32,
   "id": "ebaa7c8d",
   "metadata": {},
   "outputs": [
    {
     "name": "stdout",
     "output_type": "stream",
     "text": [
      "Liczba obserwacji przed wyfiltrowaniem wynosi 672105\n",
      "Licba obserwacji po wyfiltrowaniu wynosi 379861\n",
      "Liczba obserwacji przed wyfiltrowaniem wynosi 615594\n",
      "Licba obserwacji po wyfiltrowaniu wynosi 347300\n",
      "Liczba obserwacji przed wyfiltrowaniem wynosi 643063\n",
      "Licba obserwacji po wyfiltrowaniu wynosi 350930\n",
      "Liczba obserwacji przed wyfiltrowaniem wynosi 567852\n",
      "Licba obserwacji po wyfiltrowaniu wynosi 283776\n",
      "Liczba obserwacji przed wyfiltrowaniem wynosi 545452\n",
      "Licba obserwacji po wyfiltrowaniu wynosi 275081\n",
      "Liczba obserwacji przed wyfiltrowaniem wynosi 506238\n",
      "Licba obserwacji po wyfiltrowaniu wynosi 249935\n",
      "Liczba obserwacji przed wyfiltrowaniem wynosi 470743\n",
      "Licba obserwacji po wyfiltrowaniu wynosi 226739\n",
      "Liczba obserwacji przed wyfiltrowaniem wynosi 449695\n",
      "Licba obserwacji po wyfiltrowaniu wynosi 203562\n",
      "Liczba obserwacji przed wyfiltrowaniem wynosi 449063\n",
      "Licba obserwacji po wyfiltrowaniu wynosi 204892\n",
      "Liczba obserwacji przed wyfiltrowaniem wynosi 476386\n",
      "Licba obserwacji po wyfiltrowaniu wynosi 204495\n",
      "Liczba obserwacji przed wyfiltrowaniem wynosi 449500\n",
      "Licba obserwacji po wyfiltrowaniu wynosi 187479\n",
      "Liczba obserwacji przed wyfiltrowaniem wynosi 455294\n",
      "Licba obserwacji po wyfiltrowaniu wynosi 180256\n",
      "Liczba obserwacji przed wyfiltrowaniem wynosi 447770\n",
      "Licba obserwacji po wyfiltrowaniu wynosi 170271\n",
      "Liczba obserwacji przed wyfiltrowaniem wynosi 398632\n",
      "Licba obserwacji po wyfiltrowaniu wynosi 164801\n",
      "Liczba obserwacji przed wyfiltrowaniem wynosi 223496\n",
      "Licba obserwacji po wyfiltrowaniu wynosi 86516\n",
      "Liczba obserwacji przed wyfiltrowaniem wynosi 35644\n",
      "Licba obserwacji po wyfiltrowaniu wynosi 11000\n",
      "Liczba obserwacji przed wyfiltrowaniem wynosi 57361\n",
      "Licba obserwacji po wyfiltrowaniu wynosi 13934\n",
      "Liczba obserwacji przed wyfiltrowaniem wynosi 63110\n",
      "Licba obserwacji po wyfiltrowaniu wynosi 17865\n",
      "Liczba obserwacji przed wyfiltrowaniem wynosi 72258\n",
      "Licba obserwacji po wyfiltrowaniu wynosi 20171\n",
      "Liczba obserwacji przed wyfiltrowaniem wynosi 81063\n",
      "Licba obserwacji po wyfiltrowaniu wynosi 22308\n",
      "Liczba obserwacji przed wyfiltrowaniem wynosi 87987\n",
      "Licba obserwacji po wyfiltrowaniu wynosi 24472\n",
      "Liczba obserwacji przed wyfiltrowaniem wynosi 95120\n",
      "Licba obserwacji po wyfiltrowaniu wynosi 27278\n",
      "Liczba obserwacji przed wyfiltrowaniem wynosi 88605\n",
      "Licba obserwacji po wyfiltrowaniu wynosi 26155\n",
      "Liczba obserwacji przed wyfiltrowaniem wynosi 83130\n",
      "Licba obserwacji po wyfiltrowaniu wynosi 25051\n",
      "Liczba obserwacji przed wyfiltrowaniem wynosi 76518\n",
      "Licba obserwacji po wyfiltrowaniu wynosi 22593\n",
      "Liczba obserwacji przed wyfiltrowaniem wynosi 64572\n",
      "Licba obserwacji po wyfiltrowaniu wynosi 20382\n",
      "Liczba obserwacji przed wyfiltrowaniem wynosi 83827\n",
      "Licba obserwacji po wyfiltrowaniu wynosi 23750\n",
      "Liczba obserwacji przed wyfiltrowaniem wynosi 86941\n",
      "Licba obserwacji po wyfiltrowaniu wynosi 24431\n",
      "Liczba obserwacji przed wyfiltrowaniem wynosi 88180\n",
      "Licba obserwacji po wyfiltrowaniu wynosi 27575\n",
      "Liczba obserwacji przed wyfiltrowaniem wynosi 86737\n",
      "Licba obserwacji po wyfiltrowaniu wynosi 29421\n",
      "Liczba obserwacji przed wyfiltrowaniem wynosi 83691\n",
      "Licba obserwacji po wyfiltrowaniu wynosi 27387\n",
      "Liczba obserwacji przed wyfiltrowaniem wynosi 83499\n",
      "Licba obserwacji po wyfiltrowaniu wynosi 27671\n",
      "Liczba obserwacji przed wyfiltrowaniem wynosi 95709\n",
      "Licba obserwacji po wyfiltrowaniu wynosi 33369\n",
      "Liczba obserwacji przed wyfiltrowaniem wynosi 110891\n",
      "Licba obserwacji po wyfiltrowaniu wynosi 41036\n",
      "Liczba obserwacji przed wyfiltrowaniem wynosi 108229\n",
      "Licba obserwacji po wyfiltrowaniu wynosi 41560\n",
      "Liczba obserwacji przed wyfiltrowaniem wynosi 99961\n",
      "Licba obserwacji po wyfiltrowaniu wynosi 40757\n",
      "Liczba obserwacji przed wyfiltrowaniem wynosi 62495\n",
      "Licba obserwacji po wyfiltrowaniu wynosi 31063\n",
      "Liczba obserwacji przed wyfiltrowaniem wynosi 69399\n",
      "Licba obserwacji po wyfiltrowaniu wynosi 34763\n",
      "Liczba obserwacji przed wyfiltrowaniem wynosi 78537\n",
      "Licba obserwacji po wyfiltrowaniu wynosi 39732\n",
      "Liczba obserwacji przed wyfiltrowaniem wynosi 76136\n",
      "Licba obserwacji po wyfiltrowaniu wynosi 38707\n",
      "Liczba obserwacji przed wyfiltrowaniem wynosi 76891\n",
      "Licba obserwacji po wyfiltrowaniu wynosi 38091\n",
      "Liczba obserwacji przed wyfiltrowaniem wynosi 73718\n",
      "Licba obserwacji po wyfiltrowaniu wynosi 36848\n",
      "Liczba obserwacji przed wyfiltrowaniem wynosi 64192\n",
      "Licba obserwacji po wyfiltrowaniu wynosi 32416\n",
      "Liczba obserwacji przed wyfiltrowaniem wynosi 65929\n",
      "Licba obserwacji po wyfiltrowaniu wynosi 34242\n",
      "Liczba obserwacji przed wyfiltrowaniem wynosi 69031\n",
      "Licba obserwacji po wyfiltrowaniu wynosi 36357\n",
      "Liczba obserwacji przed wyfiltrowaniem wynosi 69322\n",
      "Licba obserwacji po wyfiltrowaniu wynosi 37448\n",
      "Liczba obserwacji przed wyfiltrowaniem wynosi 62313\n",
      "Licba obserwacji po wyfiltrowaniu wynosi 34118\n",
      "Liczba obserwacji przed wyfiltrowaniem wynosi 72439\n",
      "Licba obserwacji po wyfiltrowaniu wynosi 37926\n"
     ]
    }
   ],
   "source": [
    "df_final_green = pd.DataFrame()\n",
    "liczba_obserwacji_po_filtrowaniu = 0\n",
    "\n",
    "for i in range(1,49):\n",
    "    if i <=9:\n",
    "        df = pd.read_parquet('green_tripdata_2019-0' + str(i) + '.parquet', engine='pyarrow')\n",
    "    elif 9< i <13:\n",
    "        df = pd.read_parquet('green_tripdata_2019-' + str(i) + '.parquet', engine='pyarrow')\n",
    "    elif 13<= i <22:\n",
    "        df = pd.read_parquet('green_tripdata_2020-0' + str(i-12) + '.parquet', engine='pyarrow')\n",
    "    elif 22<= i<25:\n",
    "        df = pd.read_parquet('green_tripdata_2020-' + str(i-12) + '.parquet', engine='pyarrow')\n",
    "    elif 25<= i <34:\n",
    "        df = pd.read_parquet('green_tripdata_2021-0' + str(i-24) + '.parquet', engine='pyarrow')\n",
    "    elif 34<= i <37: \n",
    "        df = pd.read_parquet('green_tripdata_2021-' + str(i-24) + '.parquet', engine='pyarrow')\n",
    "    elif 37<= i <46:\n",
    "        df = pd.read_parquet('green_tripdata_2022-0' + str(i-36) + '.parquet', engine='pyarrow')\n",
    "    elif 46<= i <49:\n",
    "        df = pd.read_parquet('green_tripdata_2022-' + str(i-36) + '.parquet', engine='pyarrow')\n",
    "        \n",
    "    \n",
    "    \n",
    "\n",
    "\n",
    "    print('Liczba obserwacji przed wyfiltrowaniem wynosi', df.shape[0])\n",
    "\n",
    "#df = df.drop(['VendorID', 'RatecodeID', 'store_and_fwd_flag', 'congestion_surcharge', 'airport_fee'], axis=1)\n",
    "    df = df.drop(['VendorID', 'RatecodeID', 'store_and_fwd_flag', 'congestion_surcharge', 'ehail_fee', 'trip_type'], axis=1)\n",
    "    df = df.dropna()\n",
    "    df = df[(df['payment_type'] !=2) & (df['payment_type'] !=2)]\n",
    "    df = df[(df['trip_distance'] > 0.3) & (df['trip_distance'] < 30)]\n",
    "    df = df[(df['total_amount'] > 3) & (df['total_amount'] < 100)]\n",
    "\n",
    "\n",
    "    df['Seconds delta'] =  (df['lpep_dropoff_datetime'] - df['lpep_pickup_datetime']).dt.total_seconds()\n",
    "    df[df['Seconds delta'].between(120, 5400, inclusive = False)]\n",
    "\n",
    "    df['Seconds delta'] = round(df['Seconds delta'] / 60,1)\n",
    "    df['trip_distance'] = round(df['trip_distance'] * 1.609344, 1)\n",
    "    df.rename(columns={'Seconds delta' : 'Minutes delta', 'trip_distance' : 'trip_distance in km'}, inplace = True)\n",
    "\n",
    "    df['Średnia prędkość w km/h'] = round(df['trip_distance in km'] / df['Minutes delta'] * 60, 1)\n",
    "\n",
    "    df = df[(df['Średnia prędkość w km/h'] <= 90) & (df['Średnia prędkość w km/h']>=3)]\n",
    "\n",
    "    print('Licba obserwacji po wyfiltrowaniu wynosi', df.shape[0])\n",
    "    liczba_obserwacji_po_filtrowaniu = liczba_obserwacji_po_filtrowaniu + df.shape[0]\n",
    "    \n",
    "    df = df.sample(n=5000)\n",
    "    df_final_green = df_final_green.append(df, ignore_index = True)\n",
    "\n"
   ]
  },
  {
   "cell_type": "code",
   "execution_count": 33,
   "id": "b45b97c5",
   "metadata": {},
   "outputs": [
    {
     "data": {
      "text/plain": [
       "4495771"
      ]
     },
     "execution_count": 33,
     "metadata": {},
     "output_type": "execute_result"
    }
   ],
   "source": [
    "liczba_obserwacji_po_filtrowaniu"
   ]
  },
  {
   "cell_type": "code",
   "execution_count": 35,
   "id": "966516da",
   "metadata": {},
   "outputs": [
    {
     "name": "stdout",
     "output_type": "stream",
     "text": [
      "Liczba obserwacji przed wyfiltrowaniem wynosi 7696617\n",
      "Licba obserwacji po wyfiltrowaniu wynosi 5403814\n",
      "Liczba obserwacji przed wyfiltrowaniem wynosi 7049370\n",
      "Licba obserwacji po wyfiltrowaniu wynosi 5112427\n",
      "Liczba obserwacji przed wyfiltrowaniem wynosi 7866620\n",
      "Licba obserwacji po wyfiltrowaniu wynosi 5640317\n",
      "Liczba obserwacji przed wyfiltrowaniem wynosi 7475949\n",
      "Licba obserwacji po wyfiltrowaniu wynosi 5279194\n",
      "Liczba obserwacji przed wyfiltrowaniem wynosi 7598445\n",
      "Licba obserwacji po wyfiltrowaniu wynosi 5374670\n",
      "Liczba obserwacji przed wyfiltrowaniem wynosi 6971560\n",
      "Licba obserwacji po wyfiltrowaniu wynosi 4900845\n",
      "Liczba obserwacji przed wyfiltrowaniem wynosi 6310419\n",
      "Licba obserwacji po wyfiltrowaniu wynosi 4343827\n",
      "Liczba obserwacji przed wyfiltrowaniem wynosi 6073357\n",
      "Licba obserwacji po wyfiltrowaniu wynosi 4139775\n",
      "Liczba obserwacji przed wyfiltrowaniem wynosi 6567788\n",
      "Licba obserwacji po wyfiltrowaniu wynosi 4634884\n",
      "Liczba obserwacji przed wyfiltrowaniem wynosi 7213891\n",
      "Licba obserwacji po wyfiltrowaniu wynosi 5123580\n",
      "Liczba obserwacji przed wyfiltrowaniem wynosi 6878111\n",
      "Licba obserwacji po wyfiltrowaniu wynosi 4884401\n",
      "Liczba obserwacji przed wyfiltrowaniem wynosi 6896317\n",
      "Licba obserwacji po wyfiltrowaniu wynosi 4776279\n",
      "Liczba obserwacji przed wyfiltrowaniem wynosi 6405008\n",
      "Licba obserwacji po wyfiltrowaniu wynosi 4611240\n",
      "Liczba obserwacji przed wyfiltrowaniem wynosi 6299367\n",
      "Licba obserwacji po wyfiltrowaniu wynosi 4626422\n",
      "Liczba obserwacji przed wyfiltrowaniem wynosi 3007687\n",
      "Licba obserwacji po wyfiltrowaniu wynosi 2173411\n",
      "Liczba obserwacji przed wyfiltrowaniem wynosi 238073\n",
      "Licba obserwacji po wyfiltrowaniu wynosi 127877\n",
      "Liczba obserwacji przed wyfiltrowaniem wynosi 348415\n",
      "Licba obserwacji po wyfiltrowaniu wynosi 169098\n",
      "Liczba obserwacji przed wyfiltrowaniem wynosi 549797\n",
      "Licba obserwacji po wyfiltrowaniu wynosi 310855\n",
      "Liczba obserwacji przed wyfiltrowaniem wynosi 800412\n",
      "Licba obserwacji po wyfiltrowaniu wynosi 471981\n",
      "Liczba obserwacji przed wyfiltrowaniem wynosi 1007286\n",
      "Licba obserwacji po wyfiltrowaniu wynosi 615234\n",
      "Liczba obserwacji przed wyfiltrowaniem wynosi 1341017\n",
      "Licba obserwacji po wyfiltrowaniu wynosi 876057\n",
      "Liczba obserwacji przed wyfiltrowaniem wynosi 1681132\n",
      "Licba obserwacji po wyfiltrowaniu wynosi 1145630\n",
      "Liczba obserwacji przed wyfiltrowaniem wynosi 1509000\n",
      "Licba obserwacji po wyfiltrowaniu wynosi 1028257\n",
      "Liczba obserwacji przed wyfiltrowaniem wynosi 1461898\n",
      "Licba obserwacji po wyfiltrowaniu wynosi 975945\n",
      "Liczba obserwacji przed wyfiltrowaniem wynosi 1369769\n",
      "Licba obserwacji po wyfiltrowaniu wynosi 917130\n",
      "Liczba obserwacji przed wyfiltrowaniem wynosi 1371709\n",
      "Licba obserwacji po wyfiltrowaniu wynosi 934202\n",
      "Liczba obserwacji przed wyfiltrowaniem wynosi 1925152\n",
      "Licba obserwacji po wyfiltrowaniu wynosi 1325882\n",
      "Liczba obserwacji przed wyfiltrowaniem wynosi 2171187\n",
      "Licba obserwacji po wyfiltrowaniu wynosi 1524624\n",
      "Liczba obserwacji przed wyfiltrowaniem wynosi 2507109\n",
      "Licba obserwacji po wyfiltrowaniu wynosi 1798562\n",
      "Liczba obserwacji przed wyfiltrowaniem wynosi 2834264\n",
      "Licba obserwacji po wyfiltrowaniu wynosi 2045734\n",
      "Liczba obserwacji przed wyfiltrowaniem wynosi 2821746\n",
      "Licba obserwacji po wyfiltrowaniu wynosi 1994988\n",
      "Liczba obserwacji przed wyfiltrowaniem wynosi 2788757\n",
      "Licba obserwacji po wyfiltrowaniu wynosi 1972014\n",
      "Liczba obserwacji przed wyfiltrowaniem wynosi 2963793\n",
      "Licba obserwacji po wyfiltrowaniu wynosi 2131316\n",
      "Liczba obserwacji przed wyfiltrowaniem wynosi 3463504\n",
      "Licba obserwacji po wyfiltrowaniu wynosi 2568016\n",
      "Liczba obserwacji przed wyfiltrowaniem wynosi 3472949\n",
      "Licba obserwacji po wyfiltrowaniu wynosi 2570742\n",
      "Liczba obserwacji przed wyfiltrowaniem wynosi 3214369\n",
      "Licba obserwacji po wyfiltrowaniu wynosi 2324051\n",
      "Liczba obserwacji przed wyfiltrowaniem wynosi 2463931\n",
      "Licba obserwacji po wyfiltrowaniu wynosi 1846951\n",
      "Liczba obserwacji przed wyfiltrowaniem wynosi 2979431\n",
      "Licba obserwacji po wyfiltrowaniu wynosi 2263938\n",
      "Liczba obserwacji przed wyfiltrowaniem wynosi 3627882\n",
      "Licba obserwacji po wyfiltrowaniu wynosi 2742924\n",
      "Liczba obserwacji przed wyfiltrowaniem wynosi 3599920\n",
      "Licba obserwacji po wyfiltrowaniu wynosi 2689751\n",
      "Liczba obserwacji przed wyfiltrowaniem wynosi 3588295\n",
      "Licba obserwacji po wyfiltrowaniu wynosi 2670929\n",
      "Liczba obserwacji przed wyfiltrowaniem wynosi 3558124\n",
      "Licba obserwacji po wyfiltrowaniu wynosi 2644220\n",
      "Liczba obserwacji przed wyfiltrowaniem wynosi 3174394\n",
      "Licba obserwacji po wyfiltrowaniu wynosi 2324085\n",
      "Liczba obserwacji przed wyfiltrowaniem wynosi 3152677\n",
      "Licba obserwacji po wyfiltrowaniu wynosi 2310010\n",
      "Liczba obserwacji przed wyfiltrowaniem wynosi 3183767\n",
      "Licba obserwacji po wyfiltrowaniu wynosi 2371119\n",
      "Liczba obserwacji przed wyfiltrowaniem wynosi 3675411\n",
      "Licba obserwacji po wyfiltrowaniu wynosi 2765816\n",
      "Liczba obserwacji przed wyfiltrowaniem wynosi 3252717\n",
      "Licba obserwacji po wyfiltrowaniu wynosi 2446835\n",
      "Liczba obserwacji przed wyfiltrowaniem wynosi 3399549\n",
      "Licba obserwacji po wyfiltrowaniu wynosi 2501352\n",
      "128431211\n"
     ]
    }
   ],
   "source": [
    "df_final_yellow = pd.DataFrame()\n",
    "liczba_obserwacji_po_filtrowaniu = 0\n",
    "\n",
    "for i in range(1,49):\n",
    "    if i <=9:\n",
    "        df = pd.read_parquet('yellow_tripdata_2019-0' + str(i) + '.parquet', engine='pyarrow')\n",
    "    elif 9< i <13:\n",
    "        df = pd.read_parquet('yellow_tripdata_2019-' + str(i) + '.parquet', engine='pyarrow')\n",
    "    elif 13<= i <22:\n",
    "        df = pd.read_parquet('yellow_tripdata_2020-0' + str(i-12) + '.parquet', engine='pyarrow')\n",
    "    elif 22<= i<25:\n",
    "        df = pd.read_parquet('yellow_tripdata_2020-' + str(i-12) + '.parquet', engine='pyarrow')\n",
    "    elif 25<= i <34:\n",
    "        df = pd.read_parquet('yellow_tripdata_2021-0' + str(i-24) + '.parquet', engine='pyarrow')\n",
    "    elif 34<= i <37: \n",
    "        df = pd.read_parquet('yellow_tripdata_2021-' + str(i-24) + '.parquet', engine='pyarrow')\n",
    "    elif 37<= i <46:\n",
    "        df = pd.read_parquet('yellow_tripdata_2022-0' + str(i-36) + '.parquet', engine='pyarrow')\n",
    "    elif 46<= i <49:\n",
    "        df = pd.read_parquet('yellow_tripdata_2022-' + str(i-36) + '.parquet', engine='pyarrow')\n",
    "        \n",
    "    \n",
    "    \n",
    "\n",
    "\n",
    "    print('Liczba obserwacji przed wyfiltrowaniem wynosi', df.shape[0])\n",
    "\n",
    "    df = df.drop(['VendorID', 'RatecodeID', 'store_and_fwd_flag', 'congestion_surcharge', 'airport_fee'], axis=1)\n",
    "    df = df.dropna()\n",
    "    df = df[(df['payment_type'] !=2) & (df['payment_type'] !=2)]\n",
    "    df = df[(df['trip_distance'] > 0.3) & (df['trip_distance'] < 30)]\n",
    "    df = df[(df['total_amount'] > 3) & (df['total_amount'] < 100)]\n",
    "\n",
    "\n",
    "    df['Seconds delta'] =  (df['tpep_dropoff_datetime'] - df['tpep_pickup_datetime']).dt.total_seconds()\n",
    "    df[df['Seconds delta'].between(120, 5400, inclusive = False)]\n",
    "\n",
    "    df['Seconds delta'] = round(df['Seconds delta'] / 60,1)\n",
    "    df['trip_distance'] = round(df['trip_distance'] * 1.609344, 1)\n",
    "    df.rename(columns={'Seconds delta' : 'Minutes delta', 'trip_distance' : 'trip_distance in km'}, inplace = True)\n",
    "\n",
    "    df['Średnia prędkość w km/h'] = round(df['trip_distance in km'] / df['Minutes delta'] * 60, 1)\n",
    "\n",
    "    df = df[(df['Średnia prędkość w km/h'] <= 90) & (df['Średnia prędkość w km/h']>=3)]\n",
    "\n",
    "    print('Licba obserwacji po wyfiltrowaniu wynosi', df.shape[0])\n",
    "    liczba_obserwacji_po_filtrowaniu = liczba_obserwacji_po_filtrowaniu + df.shape[0]\n",
    "    \n",
    "    df = df.sample(n=5000)\n",
    "    df_final_yellow = df_final_yellow.append(df, ignore_index = True)\n",
    "\n",
    "print(liczba_obserwacji_po_filtrowaniu)    "
   ]
  },
  {
   "cell_type": "code",
   "execution_count": 36,
   "id": "53b08513",
   "metadata": {},
   "outputs": [],
   "source": [
    "df_final_green.rename(columns = {'lpep_pickup_datetime' : 'tpep_pickup_datetime', 'lpep_dropoff_datetime' : 'tpep_dropoff_datetime'}, inplace = True)\n",
    "cols = df_final_green.columns.tolist()\n",
    "order = [0,1,4,5,2,3,13,6,7,8,9,10,11,12,14,15]\n",
    "cols = [cols[i] for i in order]\n",
    "\n",
    "\n",
    "df = df_final_green.append(df_final_yellow, ignore_index = True)"
   ]
  },
  {
   "cell_type": "code",
   "execution_count": 37,
   "id": "2c1b876f",
   "metadata": {},
   "outputs": [],
   "source": [
    "df = df_final_green.append(df_final_yellow, ignore_index = True)"
   ]
  },
  {
   "cell_type": "code",
   "execution_count": 38,
   "id": "76a1d555",
   "metadata": {},
   "outputs": [],
   "source": [
    "df.to_csv('C:/Users/User/Documents/New York_plot.csv', index = False)"
   ]
  },
  {
   "cell_type": "code",
   "execution_count": 13,
   "id": "095d0daa",
   "metadata": {},
   "outputs": [],
   "source": [
    "zones = pd.read_csv('C:/Users/User/Downloads/taxi+_zone_lookup.csv')\n",
    "Boroughs_dictionary = pd.Series(zones.Borough.values, index = zones.LocationID).to_dict()\n"
   ]
  },
  {
   "cell_type": "code",
   "execution_count": 14,
   "id": "c80a40ce",
   "metadata": {},
   "outputs": [
    {
     "name": "stdout",
     "output_type": "stream",
     "text": [
      "6.5217649936676025\n"
     ]
    }
   ],
   "source": [
    "start = time.time()\n",
    "\n",
    "lista1 = []\n",
    "lista2 = []\n",
    "\n",
    "for i in range(df.shape[0]):\n",
    "    lista1.append(Boroughs_dictionary[df['PULocationID'][i]])\n",
    "    lista2.append(Boroughs_dictionary[df['DOLocationID'][i]])\n",
    "    \n",
    "df['Pull_Location'] = lista1\n",
    "df['Dropp_Location'] = lista2\n",
    "\n",
    "end = time.time()\n",
    "print(end - start)"
   ]
  },
  {
   "cell_type": "code",
   "execution_count": 15,
   "id": "e46952ab",
   "metadata": {},
   "outputs": [
    {
     "name": "stdout",
     "output_type": "stream",
     "text": [
      "450000\n",
      "446574\n"
     ]
    }
   ],
   "source": [
    "# usuwanie Dropp_Location i Pull_Location == \"Unknown\"\n",
    "print(df.shape[0])\n",
    "\n",
    "df = df[(df['Pull_Location'] != \"Unknown\") & (df['Dropp_Location'] != \"Unknown\")]\n",
    "\n",
    "\n",
    "print(df.shape[0])\n",
    "\n",
    "df = df.reset_index(drop=True)"
   ]
  },
  {
   "cell_type": "code",
   "execution_count": 16,
   "id": "f92ce75a",
   "metadata": {},
   "outputs": [
    {
     "name": "stdout",
     "output_type": "stream",
     "text": [
      "7.814743518829346\n"
     ]
    }
   ],
   "source": [
    "start = time.time()\n",
    "\n",
    "\n",
    "lista1 = []\n",
    "\n",
    "for i in range(df.shape[0]):\n",
    "    if df['Pull_Location'][i] == 'Manhattan' and df['Dropp_Location'][i] == 'Manhattan':\n",
    "        lista1.append(0)\n",
    "    elif df['Pull_Location'][i] == 'Manhattan' and df['Dropp_Location'][i] != 'Manhattan':\n",
    "        lista1.append(3)\n",
    "    elif df['Pull_Location'][i] != 'Manhattan' and df['Dropp_Location'][i] == 'Manhattan':\n",
    "        lista1.append(1)\n",
    "    else:\n",
    "        lista1.append(2)\n",
    "\n",
    "df['Route'] = lista1\n",
    "\n",
    "end = time.time()\n",
    "print(end - start)"
   ]
  },
  {
   "cell_type": "code",
   "execution_count": 17,
   "id": "36bb8b4a",
   "metadata": {},
   "outputs": [
    {
     "name": "stdout",
     "output_type": "stream",
     "text": [
      "8.358077049255371\n"
     ]
    }
   ],
   "source": [
    "start = time.time()\n",
    "\n",
    "df['Pull_tourist'] = \"\"\n",
    "df['Dropp_tourist']= \"\"\n",
    "lista1 = []\n",
    "lista2 = []\n",
    "\n",
    "for i in range(df.shape[0]):\n",
    "    if df['PULocationID'][i] in (161, 162, 170, 233, 132, 138, 70, 1, 48, 100, 230):\n",
    "        lista1.append(1)\n",
    "    else:\n",
    "        lista1.append(0)\n",
    "    if df['DOLocationID'][i] in (161, 162, 170, 233, 132, 138, 70, 1, 48, 100, 230):\n",
    "        lista2.append(1)\n",
    "    else:\n",
    "        lista2.append(0)    \n",
    "\n",
    "df['Pull_tourist'] = lista1\n",
    "df['Dropp_tourist'] = lista2\n",
    "\n",
    "end = time.time()\n",
    "print(end - start)"
   ]
  },
  {
   "cell_type": "code",
   "execution_count": 18,
   "id": "19a297f3",
   "metadata": {},
   "outputs": [
    {
     "name": "stdout",
     "output_type": "stream",
     "text": [
      "18.915621519088745\n"
     ]
    }
   ],
   "source": [
    "start = time.time()\n",
    "\n",
    "df['Rush_hours'] = \"\"\n",
    "lista1 = []\n",
    "\n",
    "for i in range(df.shape[0]):\n",
    "    if df['tpep_pickup_datetime'][i].hour in (7,8,9):\n",
    "        lista1.append(1)\n",
    "    elif df['tpep_pickup_datetime'][i].hour in (16,17,18,19):\n",
    "        lista1.append(2)\n",
    "    elif df['tpep_pickup_datetime'][i].hour in (0,1,2,3):\n",
    "        lista1.append(3)\n",
    "    else:\n",
    "        lista1.append(0)\n",
    "\n",
    "df['Rush_hours'] = lista1\n",
    "\n",
    "end = time.time()\n",
    "print(end - start)"
   ]
  },
  {
   "cell_type": "code",
   "execution_count": 19,
   "id": "d185fd0a",
   "metadata": {},
   "outputs": [
    {
     "name": "stdout",
     "output_type": "stream",
     "text": [
      "18.931053161621094\n"
     ]
    }
   ],
   "source": [
    "start = time.time()\n",
    "\n",
    "df['Weekend'] = \"\"\n",
    "lista1 = []\n",
    "\n",
    "for i in range(df.shape[0]):\n",
    "    if df['tpep_pickup_datetime'][i].weekday() in (5,6):\n",
    "        lista1.append(1)\n",
    "    elif df['tpep_pickup_datetime'][i].weekday == 4 and df['tpep_pickup_datetime'][i].hour in (20, 21, 23, 24):\n",
    "        lista1.append(1)\n",
    "    elif df['tpep_pickup_datetime'][i].weekday == 0 and df['tpep_pickup_datetime'][i].hour in (0, 1, 2):\n",
    "        lista1.append(1)\n",
    "    else:\n",
    "        lista1.append(0)  \n",
    "        \n",
    "df['Weekend'] = lista1    \n",
    "\n",
    "end = time.time()\n",
    "print(end - start)"
   ]
  },
  {
   "cell_type": "code",
   "execution_count": 20,
   "id": "2786d1bb",
   "metadata": {},
   "outputs": [],
   "source": [
    "df_2 = pd.read_csv('C:/Users/User/Downloads/NYC_Permitted_Event_Information_-_Historical.csv')"
   ]
  },
  {
   "cell_type": "code",
   "execution_count": 21,
   "id": "cbfe61cd",
   "metadata": {},
   "outputs": [
    {
     "name": "stdout",
     "output_type": "stream",
     "text": [
      "486.0306570529938\n"
     ]
    }
   ],
   "source": [
    "start = time.time()\n",
    "\n",
    "lista = []\n",
    "\n",
    "for i in range(df_2.shape[0]):\n",
    "    try:\n",
    "        lista.append(datetime.strptime(df_2['Start Date/Time'][i], '%m/%d/%Y %I:%M:%S %p').date())\n",
    "    except:\n",
    "        lista.append('Nan')\n",
    "df_2['Start Date'] = lista\n",
    "\n",
    "end = time.time()\n",
    "print(end - start)"
   ]
  },
  {
   "cell_type": "code",
   "execution_count": 22,
   "id": "81dda041",
   "metadata": {},
   "outputs": [
    {
     "name": "stdout",
     "output_type": "stream",
     "text": [
      "17\n",
      "58.46833157539368\n"
     ]
    }
   ],
   "source": [
    "start = time.time()\n",
    "\n",
    "print(len(pd.DataFrame(lista)[pd.DataFrame(lista)[0] == 'Nan'].index.values))\n",
    "count = df_2.groupby(['Start Date'])['Start Date'].count()\n",
    "events_dictionary = count.to_dict()\n",
    "\n",
    "end = time.time()\n",
    "print(end - start)\n"
   ]
  },
  {
   "cell_type": "code",
   "execution_count": 24,
   "id": "954e6366",
   "metadata": {},
   "outputs": [
    {
     "ename": "KeyError",
     "evalue": "datetime.date(2002, 10, 21)",
     "output_type": "error",
     "traceback": [
      "\u001b[1;31m---------------------------------------------------------------------------\u001b[0m",
      "\u001b[1;31mKeyError\u001b[0m                                  Traceback (most recent call last)",
      "\u001b[1;32m<ipython-input-24-511520ac1657>\u001b[0m in \u001b[0;36m<module>\u001b[1;34m\u001b[0m\n\u001b[0;32m      4\u001b[0m \u001b[1;33m\u001b[0m\u001b[0m\n\u001b[0;32m      5\u001b[0m \u001b[1;32mfor\u001b[0m \u001b[0mi\u001b[0m \u001b[1;32min\u001b[0m \u001b[0mrange\u001b[0m\u001b[1;33m(\u001b[0m\u001b[0mdf\u001b[0m\u001b[1;33m.\u001b[0m\u001b[0mshape\u001b[0m\u001b[1;33m[\u001b[0m\u001b[1;36m0\u001b[0m\u001b[1;33m]\u001b[0m\u001b[1;33m)\u001b[0m\u001b[1;33m:\u001b[0m\u001b[1;33m\u001b[0m\u001b[1;33m\u001b[0m\u001b[0m\n\u001b[1;32m----> 6\u001b[1;33m     \u001b[0mlista1\u001b[0m\u001b[1;33m.\u001b[0m\u001b[0mappend\u001b[0m\u001b[1;33m(\u001b[0m\u001b[0mevents_dictionary\u001b[0m\u001b[1;33m[\u001b[0m\u001b[0mdf\u001b[0m\u001b[1;33m[\u001b[0m\u001b[1;34m'tpep_pickup_datetime'\u001b[0m\u001b[1;33m]\u001b[0m\u001b[1;33m[\u001b[0m\u001b[0mi\u001b[0m\u001b[1;33m]\u001b[0m\u001b[1;33m.\u001b[0m\u001b[0mdate\u001b[0m\u001b[1;33m(\u001b[0m\u001b[1;33m)\u001b[0m\u001b[1;33m]\u001b[0m\u001b[1;33m)\u001b[0m\u001b[1;33m\u001b[0m\u001b[1;33m\u001b[0m\u001b[0m\n\u001b[0m\u001b[0;32m      7\u001b[0m \u001b[1;33m\u001b[0m\u001b[0m\n\u001b[0;32m      8\u001b[0m \u001b[0mdf\u001b[0m\u001b[1;33m[\u001b[0m\u001b[1;34m'events_count'\u001b[0m\u001b[1;33m]\u001b[0m \u001b[1;33m=\u001b[0m \u001b[0mlista1\u001b[0m\u001b[1;33m\u001b[0m\u001b[1;33m\u001b[0m\u001b[0m\n",
      "\u001b[1;31mKeyError\u001b[0m: datetime.date(2002, 10, 21)"
     ]
    }
   ],
   "source": [
    "start = time.time()\n",
    "\n",
    "lista1 = []\n",
    "\n",
    "for i in range(df.shape[0]):\n",
    "    lista1.append(events_dictionary[df['tpep_pickup_datetime'][i].date()])\n",
    "    \n",
    "df['events_count'] = lista1    \n",
    "\n",
    "end = time.time()\n",
    "print(end - start)"
   ]
  },
  {
   "cell_type": "code",
   "execution_count": 247,
   "id": "27353cc8",
   "metadata": {},
   "outputs": [],
   "source": [
    "df_weather = pd.read_csv('C:/Users/User/Downloads/new york 2019-01-01 to 2022-12-04.csv')"
   ]
  },
  {
   "cell_type": "code",
   "execution_count": 248,
   "id": "163f8336",
   "metadata": {},
   "outputs": [],
   "source": [
    "# funkcja do zaokrąglania czasu do pełnych godzin\n",
    "\n",
    "def hour_rounder(t):\n",
    "    return (t.replace(second=0, microsecond=0, minute=0, hour=t.hour)\n",
    "               +timedelta(hours=t.minute//30))"
   ]
  },
  {
   "cell_type": "code",
   "execution_count": 249,
   "id": "03a92c0c",
   "metadata": {},
   "outputs": [],
   "source": [
    "# zastąpienie 'T' w stringu spacją\n",
    "\n",
    "lista = []\n",
    "\n",
    "for i in range(df_weather.shape[0]):\n",
    "    lista.append(df_weather.iloc[i,1].replace(\"T\", ' '))\n",
    "    \n",
    "df_weather['datetime'] = lista "
   ]
  },
  {
   "cell_type": "code",
   "execution_count": 250,
   "id": "2e008451",
   "metadata": {},
   "outputs": [
    {
     "name": "stdout",
     "output_type": "stream",
     "text": [
      "11.2\n",
      "           name             datetime  temp  feelslike  humidity  precip  \\\n",
      "26305  new york  2022-01-01 01:00:00  10.5       10.5     87.22     0.0   \n",
      "\n",
      "       precipprob preciptype  snow  snowdepth  windgust  windspeed  uvindex  \n",
      "26305         0.0        NaN   0.0        0.0       NaN        3.7        0  \n"
     ]
    }
   ],
   "source": [
    "# definiowanie słowników oraz sprawdzanie poprawności ich działania\n",
    "\n",
    "temp_dictionary = pd.Series(df_weather['temp'].values, index = df_weather['datetime']).to_dict()\n",
    "feelslike_dictionary = pd.Series(df_weather['feelslike'].values, index = df_weather['datetime']).to_dict()\n",
    "precip_dictionary = pd.Series(df_weather['precip'].values, index = df_weather['datetime']).to_dict()\n",
    "wind_dictionary = pd.Series(df_weather['windspeed'].values, index = df_weather['datetime']).to_dict()\n",
    "\n",
    "print(temp_dictionary[datetime.strftime(hour_rounder(df.iloc[0,1]), '%Y-%d-%m %H:%M:%S')])\n",
    "print(df_weather[df_weather['datetime'] == '2022-01-01 01:00:00'])"
   ]
  },
  {
   "cell_type": "code",
   "execution_count": 251,
   "id": "abfea550",
   "metadata": {},
   "outputs": [
    {
     "name": "stdout",
     "output_type": "stream",
     "text": [
      "109.97522640228271\n"
     ]
    }
   ],
   "source": [
    "lista1 = []\n",
    "lista2 = []\n",
    "lista3 = []\n",
    "lista4 = []\n",
    "\n",
    "lista = []\n",
    "\n",
    "start = time.time()\n",
    "\n",
    "#df = df.drop(df[df['tpep_pickup_datetime'] < datetime.strptime('2021-12-31 00:00:00', '%Y-%m-%d %H:%M:%S')].index, axis = 0)\n",
    "\n",
    "for i in range(df.shape[0]):\n",
    "    try:\n",
    "        lista1.append(temp_dictionary[datetime.strftime(hour_rounder(df['tpep_pickup_datetime'][i]), '%Y-%m-%d %H:%M:%S')])\n",
    "        lista2.append(feelslike_dictionary[datetime.strftime(hour_rounder(df['tpep_pickup_datetime'][i]), '%Y-%m-%d %H:%M:%S')])\n",
    "        lista3.append(precip_dictionary[datetime.strftime(hour_rounder(df['tpep_pickup_datetime'][i]), '%Y-%m-%d %H:%M:%S')])\n",
    "        lista4.append(wind_dictionary[datetime.strftime(hour_rounder(df['tpep_pickup_datetime'][i]), '%Y-%m-%d %H:%M:%S')])\n",
    "    except:\n",
    "        lista.append(i)\n",
    "        \n",
    "        \n",
    "df.drop(lista, axis=0, inplace = True)\n",
    "df = df.reset_index(drop=True)\n",
    "\n",
    "lista1 = []\n",
    "lista2 = []\n",
    "lista3 = []\n",
    "lista4 = []\n",
    "\n",
    "for i in range(df.shape[0]):\n",
    "    \n",
    "    lista1.append(temp_dictionary[datetime.strftime(hour_rounder(df['tpep_pickup_datetime'][i]), '%Y-%m-%d %H:%M:%S')])\n",
    "    lista2.append(feelslike_dictionary[datetime.strftime(hour_rounder(df['tpep_pickup_datetime'][i]), '%Y-%m-%d %H:%M:%S')])\n",
    "    lista3.append(precip_dictionary[datetime.strftime(hour_rounder(df['tpep_pickup_datetime'][i]), '%Y-%m-%d %H:%M:%S')])\n",
    "    lista4.append(wind_dictionary[datetime.strftime(hour_rounder(df['tpep_pickup_datetime'][i]), '%Y-%m-%d %H:%M:%S')])\n",
    "\n",
    "df['temp'] = lista1\n",
    "df['feelslike'] = lista2\n",
    "df['opad'] = lista3\n",
    "df['wind'] = lista4\n",
    "\n",
    "        \n",
    "end = time.time()\n",
    "print(end - start)"
   ]
  },
  {
   "cell_type": "code",
   "execution_count": 252,
   "id": "d973ba82",
   "metadata": {},
   "outputs": [],
   "source": [
    "df.rename(columns = {'Średnia prędkość w km/h' : \"Average speed in km/h\"}, inplace = True)"
   ]
  },
  {
   "cell_type": "code",
   "execution_count": 253,
   "id": "bc45d5df",
   "metadata": {},
   "outputs": [],
   "source": [
    "df = df.drop(['tpep_pickup_datetime', 'tpep_dropoff_datetime', 'PULocationID', 'DOLocationID', 'fare_amount', 'extra', 'mta_tax',\n",
    "         'tolls_amount', 'improvement_surcharge', 'total_amount', 'payment_type', 'Minutes delta', 'Pull_Location', 'Dropp_Location', 'temp']\n",
    "         , axis=1)\n",
    "df['opad'] =np.where(df['opad'] == 0.0, 0, 1)"
   ]
  },
  {
   "cell_type": "code",
   "execution_count": 254,
   "id": "248ff118",
   "metadata": {},
   "outputs": [],
   "source": [
    "# obrzeże-obrzeże referencyjna (3)\n",
    "Route_dummies = pd.get_dummies(df['Route'], prefix='Route').iloc[:, 0:3]\n",
    "\n",
    "# poza szczytem i nocą referencyjna (0)\n",
    "Rush_hours_dummies = pd.get_dummies(df['Rush_hours'], prefix='Rush_hours').iloc[:, 1:]\n",
    "\n",
    "df = pd.concat([df, Route_dummies, Rush_hours_dummies], axis = 1)\n",
    "\n",
    "df = df.drop(['Route', 'Rush_hours'], axis = 1)"
   ]
  },
  {
   "cell_type": "code",
   "execution_count": 255,
   "id": "27a0e3ac",
   "metadata": {},
   "outputs": [],
   "source": [
    "# Interakcje\n",
    "\n",
    "# liczba pasażerów * rush_hours_3\n",
    "# liczba pasażerów * weekend\n",
    "# liczba pasażerów * dropp_tourist * pull_tourist\n",
    "# liczba pasażerów * dropp_tourist\n",
    "# liczba pasażerów * pull_tourist\n",
    "# average speed * dropp_tourist\n",
    "# average speed * pull_tourist\n",
    "# average speed * dropp_tourist * pull_tourist\n",
    "# average speed * rush_hours_1\n",
    "# average speed * rush_hours_2\n",
    "# average speed * rush_hours_3\n",
    "# dropp_toursit * pull_tourist\n",
    "# wind * opad\n",
    "# feels_like * opad\n",
    "\n",
    "df = pd.concat([df, df['passenger_count'] * df['Rush_hours_3'], \n",
    "df['passenger_count'] * df['Weekend'],\n",
    "df['passenger_count'] * df['Dropp_tourist'] * df['Pull_tourist'],\n",
    "df['passenger_count'] * df['Dropp_tourist'],\n",
    "df['passenger_count'] * df['Pull_tourist'],\n",
    "df['Average speed in km/h'] * df['Dropp_tourist'],\n",
    "df['Average speed in km/h'] * df['Pull_tourist'],\n",
    "df['Average speed in km/h'] * df['Dropp_tourist'] * df['Pull_tourist'],\n",
    "df['Average speed in km/h'] * df['Rush_hours_1'],\n",
    "df['Average speed in km/h'] * df['Rush_hours_2'],\n",
    "df['Average speed in km/h'] * df['Rush_hours_3'],\n",
    "df['Dropp_tourist'] * df['Pull_tourist'],\n",
    "df['wind'] * df['opad'],\n",
    "df['feelslike'] * df['opad']], axis = 1)\n",
    "\n"
   ]
  },
  {
   "cell_type": "code",
   "execution_count": 256,
   "id": "eddff1e4",
   "metadata": {},
   "outputs": [],
   "source": [
    "df.rename(columns = {0 : 'passenger_count*Rush_hours_3', 1 : 'passenger_count*weekend',\n",
    "                                2 : 'passenger_count*dropp_tourist*pull_tourist', 3 : 'passenger_count*dropp_tourist',\n",
    "                                4 : 'passenger_count*pull_tourist', 5 : 'average_speed*dropp_tourist',\n",
    "                                6 : 'average_speed*pull_tourist',\n",
    "                                7 : 'average_speed*dropp_tourist*pull_tourist', 8 : 'average_speed*rush_hours_1',\n",
    "                                9 : 'average_speed*rush_hours_2', 10 : 'average_speed*rush_hours_3',\n",
    "                                11 : 'dropp_tourist*pull_tourist', 12 : 'wind*opad', 13 : 'feelslike*opad'}, inplace = True)\n"
   ]
  },
  {
   "cell_type": "code",
   "execution_count": 257,
   "id": "a6c57a13",
   "metadata": {},
   "outputs": [],
   "source": [
    "df.to_csv('C:/Users/User/Documents/New York.csv', index = False)"
   ]
  }
 ],
 "metadata": {
  "kernelspec": {
   "display_name": "Python 3",
   "language": "python",
   "name": "python3"
  },
  "language_info": {
   "codemirror_mode": {
    "name": "ipython",
    "version": 3
   },
   "file_extension": ".py",
   "mimetype": "text/x-python",
   "name": "python",
   "nbconvert_exporter": "python",
   "pygments_lexer": "ipython3",
   "version": "3.8.8"
  }
 },
 "nbformat": 4,
 "nbformat_minor": 5
}
